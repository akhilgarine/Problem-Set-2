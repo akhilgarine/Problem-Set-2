{
 "cells": [
  {
   "cell_type": "code",
   "execution_count": 9,
   "id": "ae71b83e",
   "metadata": {},
   "outputs": [
    {
     "name": "stdout",
     "output_type": "stream",
     "text": [
      "2\n",
      "4\n",
      "6\n",
      "6\n"
     ]
    }
   ],
   "source": [
    "#Question 1\n",
    "a = 0\n",
    "\n",
    "def b():\n",
    "    global a  \n",
    "    a = c(a)\n",
    "    return a\n",
    "def c(a):\n",
    "    return a+2\n",
    "print(b()) #Initially 'a' value is 0 it changes to 2 globally \n",
    "print(b()) #current a=2 changes to 4 globally\n",
    "print(b()) #current a=4 changes to 6 globally\n",
    "print(a) #printing current a value which is 6"
   ]
  },
  {
   "cell_type": "code",
   "execution_count": 10,
   "id": "640ebaa1",
   "metadata": {},
   "outputs": [
    {
     "name": "stdout",
     "output_type": "stream",
     "text": [
      "File text.py not found\n",
      "File Filelength.py not found\n"
     ]
    }
   ],
   "source": [
    "#Question 2\n",
    "def fileLength(l) :\n",
    "    try:\n",
    "        fp = open(l,'r')\n",
    "        text = fp.read()\n",
    "        print(len(text))\n",
    "    except FileNotFoundError:\n",
    "        print(\"File \"+l+\" not found\")\n",
    "    except:\n",
    "        print(\"Something else went wrong\")\n",
    "        \n",
    "fileLength(\"text.py\")\n",
    "fileLength(\"Filelength.py\")"
   ]
  },
  {
   "cell_type": "code",
   "execution_count": 8,
   "id": "cff290bb",
   "metadata": {},
   "outputs": [
    {
     "name": "stdout",
     "output_type": "stream",
     "text": [
      "I am a Kangaroo located at coordinates (0,0)\n",
      "['doll', 'firetruck', 'kitten']\n",
      "I am a Kangaroo located at coordinates (3,0)\n"
     ]
    }
   ],
   "source": [
    "#Question 3 :\n",
    "class Marsupial :\n",
    "    \n",
    "    def __init__(self):\n",
    "        self.toys = []  #Initlization\n",
    "    def put_in_pouch(self,x):\n",
    "        self.toys.append(x)  #Appends the values at the end of current list\n",
    "    def pouch_contents(self):\n",
    "        print(self.toys)   #prints Coneten\n",
    "class Kangaroo(Marsupial):\n",
    "    def __init__(self,x,y):  \n",
    "        Marsupial.__init__(self)\n",
    "        self.x = x;self.y = y\n",
    "    def jump(self,dx,dy):\n",
    "        self.x = self.x + dx;self.y = self.y + dy\n",
    "    def __str__(self):\n",
    "        return \"I am a Kangaroo located at coordinates ({},{})\".format(self.x,self.y)\n",
    "    \n",
    "k = Kangaroo(0,0)\n",
    "print(k)\n",
    "k.put_in_pouch('doll')\n",
    "k.put_in_pouch('firetruck')\n",
    "k.put_in_pouch('kitten')\n",
    "k.pouch_contents()\n",
    "k.jump(1,0)\n",
    "k.jump(1,0)\n",
    "k.jump(1,0)\n",
    "print(k)"
   ]
  },
  {
   "cell_type": "code",
   "execution_count": 7,
   "id": "522f838f",
   "metadata": {},
   "outputs": [
    {
     "name": "stdout",
     "output_type": "stream",
     "text": [
      "10\n",
      "5\n",
      "16\n",
      "8\n",
      "4\n",
      "2\n",
      "1\n"
     ]
    }
   ],
   "source": [
    "#Question 4 :\n",
    "def collatz(x):\n",
    "    if(x== 1 or x == 0):\n",
    "        print(x)\n",
    "        return\n",
    "    \n",
    "    if(x%2 == 0):\n",
    "        print(x)\n",
    "        x = int(x/2)\n",
    "        collatz(x)\n",
    "    else:\n",
    "        print(x)\n",
    "        x = int(3*x+1)\n",
    "        collatz(x)\n",
    "    \n",
    "    return\n",
    "    \n",
    "\n",
    "collatz(10)\n"
   ]
  },
  {
   "cell_type": "code",
   "execution_count": 13,
   "id": "7de96d0d",
   "metadata": {},
   "outputs": [
    {
     "name": "stdout",
     "output_type": "stream",
     "text": [
      "1010"
     ]
    }
   ],
   "source": [
    "#Question 5\n",
    "def binary(n):  #  n(non-negative Integer)\n",
    "   if n > 1:\n",
    "       binary(n//2)\n",
    "   print(n % 2,end = '')\n",
    "\n",
    "binary(10)"
   ]
  },
  {
   "cell_type": "code",
   "execution_count": 12,
   "id": "62659e1b",
   "metadata": {},
   "outputs": [
    {
     "name": "stdout",
     "output_type": "stream",
     "text": [
      "W3C Mission\n",
      "    Principles\n"
     ]
    }
   ],
   "source": [
    "#Question 6 :\n",
    "\n",
    "from html.parser import HTMLParser\n",
    "\n",
    "class HeadingParser(HTMLParser):\n",
    "    def handle_data(self,x):\n",
    "        tag = super().get_starttag_text()\n",
    "        if '\\n' not in x:\n",
    "            if tag == '<h1>':\n",
    "                print(x.strip())\n",
    "            elif tag == '<h2>':\n",
    "                print('    '+x.strip())\n",
    "        \n",
    "        \n",
    "parser = HeadingParser()\n",
    "infile = open('w3c.html','r')\n",
    "data = infile.read()\n",
    "parser.feed(data)"
   ]
  },
  {
   "cell_type": "code",
   "execution_count": 3,
   "id": "5cbae5c2",
   "metadata": {},
   "outputs": [
    {
     "name": "stdout",
     "output_type": "stream",
     "text": [
      "http://reed.cs.depaul.edu/lperkovic/csc242/test1.html\n",
      "http://reed.cs.depaul.edu/lperkovic/csc242/test1.html\n"
     ]
    }
   ],
   "source": [
    "#Question 7 :\n",
    "def webdir(url,depth,indent,count):\n",
    "    if count == depth:\n",
    "        return\n",
    "    print(url)\n",
    "    webdir(url,depth,indent,count+1)\n",
    "    \n",
    "    return\n",
    "    \n",
    "webdir('http://reed.cs.depaul.edu/lperkovic/csc242/test1.html',2,0,0)"
   ]
  },
  {
   "cell_type": "code",
   "execution_count": 14,
   "id": "c2e03fab",
   "metadata": {},
   "outputs": [
    {
     "name": "stdout",
     "output_type": "stream",
     "text": [
      "a)All the tempareture data\n",
      "('24.8',)\n",
      "('28.4',)\n",
      "('27.9',)\n",
      "('27.6',)\n",
      "('4.2',)\n",
      "('8.3',)\n",
      "('15.7',)\n",
      "('10.4',)\n",
      "('13.6',)\n",
      "('20.7',)\n",
      "('27.7',)\n",
      "('22.2',)\n",
      "b)All the cities, but without repetition.\n",
      "('Mumbai',)\n",
      "('London',)\n",
      "('Cairo',)\n",
      "c) All the records for India.\n",
      "('Mumbai', 'India', 'Winter', '24.8', '5.9')\n",
      "('Mumbai', 'India', 'Spring', '28.4', '16.2')\n",
      "('Mumbai', 'India', 'Summer', '27.9', '1549.4')\n",
      "('Mumbai', 'India', 'Fall', '27.6', '346.0')\n",
      "d) All the Fall records.\n",
      "('Mumbai', 'India', 'Fall', '27.6', '346.0')\n",
      "('London', 'United Kingdom', 'Fall', '10.4', '218.5')\n",
      "('Cairo', 'Egypt', 'Fall', '22.2', '4.5')\n",
      "e) The city, country, and season for which the average rainfall is between 200 and 400 millimeters.\n",
      "('Mumbai', 'India', 'Fall')\n",
      "('London', 'United Kingdom', 'Winter')\n",
      "('London', 'United Kingdom', 'Fall')\n",
      "('Cairo', 'Egypt', 'Fall')\n",
      "f) The city and country for which the average Fall temperature is above 20 degrees, in increasing temperature order.\n",
      "('Cairo', 'Egypt')\n",
      "('Mumbai', 'India')\n",
      "g) The total annual rainfall for Cairo.\n",
      "(27.6,)\n",
      "h)The total rainfall for each season.\n",
      "(569.0, 'Fall')\n",
      "(192.29999999999998, 'Spring')\n",
      "(1706.5, 'Summer')\n",
      "(230.1, 'Winter')\n"
     ]
    }
   ],
   "source": [
    "#Question 8:\n",
    "import sqlite3\n",
    "\n",
    "conn = sqlite3.connect('weathers.db')\n",
    "cursor = conn.cursor()\n",
    "cursor.execute(\"DROP TABLE IF EXISTS ANNUAL_WEATHER\")\n",
    "query = \"CREATE TABLE ANNUAL_WEATHER (City VARCHAR(500) NOT NULL,Country VARCHAR(500) NOT NULL,Season VARCHAR(500) NOT NULL,Tempareture VARCHAR(500) NOT NULL,Rainfall VARCHAR(500) NOT NULL)\"\n",
    "cursor.execute(query)\n",
    "cursor.execute(\"INSERT INTO ANNUAL_WEATHER VALUES('Mumbai','India','Winter','24.8','5.9')\")\n",
    "cursor.execute(\"INSERT INTO ANNUAL_WEATHER VALUES('Mumbai','India','Spring','28.4','16.2')\")\n",
    "cursor.execute(\"INSERT INTO ANNUAL_WEATHER VALUES('Mumbai','India','Summer','27.9','1549.4')\")\n",
    "cursor.execute(\"INSERT INTO ANNUAL_WEATHER VALUES('Mumbai','India','Fall','27.6','346.0')\")\n",
    "cursor.execute(\"INSERT INTO ANNUAL_WEATHER VALUES('London','United Kingdom','Winter','4.2','207.7')\")\n",
    "cursor.execute(\"INSERT INTO ANNUAL_WEATHER VALUES('London','United Kingdom','Spring','8.3','169.6')\")\n",
    "cursor.execute(\"INSERT INTO ANNUAL_WEATHER VALUES('London','United Kingdom','Summer','15.7','157.0')\")\n",
    "cursor.execute(\"INSERT INTO ANNUAL_WEATHER VALUES('London','United Kingdom','Fall','10.4','218.5')\")\n",
    "cursor.execute(\"INSERT INTO ANNUAL_WEATHER VALUES('Cairo','Egypt','Winter','13.6','16.5')\")\n",
    "cursor.execute(\"INSERT INTO ANNUAL_WEATHER VALUES('Cairo','Egypt','Spring','20.7','6.5')\")\n",
    "cursor.execute(\"INSERT INTO ANNUAL_WEATHER VALUES('Cairo','Egypt','Summer','27.7','0.1')\")\n",
    "cursor.execute(\"INSERT INTO ANNUAL_WEATHER VALUES('Cairo','Egypt','Fall','22.2','4.5')\")\n",
    "\n",
    "print(\"a)All the tempareture data\")\n",
    "data = cursor.execute(\"SELECT Tempareture FROM ANNUAL_WEATHER\")\n",
    "for row in data:\n",
    "    print(row)\n",
    "\n",
    "print(\"b)All the cities, but without repetition.\")\n",
    "data = cursor.execute(\"SELECT DISTINCT City FROM ANNUAL_WEATHER\")\n",
    "for row in data:\n",
    "    print(row)\n",
    "\n",
    "print(\"c) All the records for India.\")\n",
    "data = cursor.execute(\"SELECT * FROM ANNUAL_WEATHER WHERE Country='India'\")\n",
    "for row in data:\n",
    "    print(row)\n",
    "\n",
    "print(\"d) All the Fall records.\")\n",
    "data = cursor.execute(\"SELECT * FROM ANNUAL_WEATHER WHERE Season='Fall'\")\n",
    "for row in data:\n",
    "    print(row)\n",
    "\n",
    "print(\"e) The city, country, and season for which the average rainfall is between 200 and 400 millimeters.\")\n",
    "data = cursor.execute(\"SELECT City,Country,Season FROM ANNUAL_WEATHER WHERE Rainfall>=200 and Rainfall<=400\")\n",
    "for row in data:\n",
    "    print(row)\n",
    "print(\"f) The city and country for which the average Fall temperature is above 20 degrees, in increasing temperature order.\")\n",
    "data = cursor.execute(\"SELECT City,Country FROM ANNUAL_WEATHER WHERE Season='Fall' and Tempareture>20 ORDER BY Tempareture\")\n",
    "for row in data:\n",
    "    print(row)\n",
    "print(\"g) The total annual rainfall for Cairo.\")\n",
    "data = cursor.execute(\"SELECT SUM(Rainfall) from ANNUAL_WEATHER WHERE City='Cairo'\")\n",
    "for row in data:\n",
    "    print(row)\n",
    "print(\"h)The total rainfall for each season.\")\n",
    "data = cursor.execute(\"SELECT SUM(Rainfall),Season from ANNUAL_WEATHER GROUP BY Season\")\n",
    "for row in data:\n",
    "    print(row)\n",
    "\n",
    "conn.close()\n"
   ]
  },
  {
   "cell_type": "code",
   "execution_count": 15,
   "id": "3fd52198",
   "metadata": {},
   "outputs": [
    {
     "name": "stdout",
     "output_type": "stream",
     "text": [
      "a) ['THE', 'QUICK', 'BROWN', 'FOX', 'JUMPS', 'OVER', 'THE', 'LAZY', 'DOG']\n",
      "b) ['the', 'quick', 'brown', 'fox', 'jumps', 'over', 'the', 'lazy', 'dog']\n",
      "c) [3, 5, 5, 3, 5, 4, 3, 4, 3]\n",
      "d) [['THE', 'the', 3], ['QUICK', 'quick', 5], ['BROWN', 'brown', 5], ['FOX', 'fox', 3], ['JUMPS', 'jumps', 5], ['OVER', 'over', 4], ['THE', 'the', 3], ['LAZY', 'lazy', 4], ['DOG', 'dog', 3]]\n",
      "e) ['quick', 'brown', 'jumps', 'over', 'lazy']\n"
     ]
    }
   ],
   "source": [
    "#Question 9 :\n",
    "words = ['The', 'quick', 'brown', 'fox', 'jumps', 'over','the', 'lazy', 'dog']\n",
    "newlist = [x.upper() for x in words] # generates list\n",
    "print(\"a)\",newlist)\n",
    "newlist = [x.lower() for x in words]\n",
    "print(\"b)\",newlist)\n",
    "newlist = [len(x) for x in words] # displayes length of the words \n",
    "print(\"c)\",newlist)\n",
    "newlist = [[x.upper(),x.lower(),len(x)] for x in words]\n",
    "print(\"d)\",newlist)\n",
    "newlist = [x for x in words if len(x)>=4]\n",
    "print(\"e)\",newlist)"
   ]
  },
  {
   "cell_type": "code",
   "execution_count": null,
   "id": "1bd9abf1",
   "metadata": {},
   "outputs": [],
   "source": []
  }
 ],
 "metadata": {
  "kernelspec": {
   "display_name": "Python 3 (ipykernel)",
   "language": "python",
   "name": "python3"
  },
  "language_info": {
   "codemirror_mode": {
    "name": "ipython",
    "version": 3
   },
   "file_extension": ".py",
   "mimetype": "text/x-python",
   "name": "python",
   "nbconvert_exporter": "python",
   "pygments_lexer": "ipython3",
   "version": "3.9.12"
  }
 },
 "nbformat": 4,
 "nbformat_minor": 5
}
